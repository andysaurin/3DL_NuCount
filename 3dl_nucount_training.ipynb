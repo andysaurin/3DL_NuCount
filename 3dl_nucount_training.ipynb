{
 "cells": [
  {
   "cell_type": "markdown",
   "id": "914e2237",
   "metadata": {},
   "source": [
    "# 3DL_NuCount (Training notebook)"
   ]
  },
  {
   "cell_type": "markdown",
   "id": "c6c583f2",
   "metadata": {},
   "source": [
    "Author: Fabrice Daian"
   ]
  },
  {
   "cell_type": "markdown",
   "id": "f078475e",
   "metadata": {},
   "source": [
    "Inspired from original Stardist3D example notebook: https://github.com/stardist/stardist/blob/master/examples/3D/2_training.ipynb"
   ]
  },
  {
   "cell_type": "markdown",
   "id": "d2bb2c75",
   "metadata": {},
   "source": [
    "#### Imports"
   ]
  },
  {
   "cell_type": "code",
   "execution_count": 18,
   "id": "ee9b3563",
   "metadata": {},
   "outputs": [
    {
     "name": "stderr",
     "output_type": "stream",
     "text": [
      "ipykernel_launcher.py (4): Support for setting an rcParam that expects a str value to a non-str value is deprecated since 3.5 and support will be removed two minor releases later.\n"
     ]
    }
   ],
   "source": [
    "import sys\n",
    "import numpy as np\n",
    "import matplotlib\n",
    "matplotlib.rcParams[\"image.interpolation\"] = None\n",
    "import matplotlib.pyplot as plt\n",
    "%matplotlib inline\n",
    "%config InlineBackend.figure_format = 'retina'\n",
    "\n",
    "from tqdm import tqdm\n",
    "from tifffile import imread\n",
    "from csbdeep.utils import normalize\n",
    "\n",
    "from stardist import fill_label_holes, random_label_cmap, calculate_extents, gputools_available\n",
    "from stardist import Rays_GoldenSpiral\n",
    "from stardist.models import Config3D, StarDist3D\n",
    "\n",
    "import tifffile\n",
    "import os\n",
    "\n",
    "np.random.seed(42)\n",
    "lbl_cmap = random_label_cmap()"
   ]
  },
  {
   "cell_type": "markdown",
   "id": "c14637df",
   "metadata": {},
   "source": [
    "#### Parameters"
   ]
  },
  {
   "cell_type": "code",
   "execution_count": 19,
   "id": "be825b39",
   "metadata": {},
   "outputs": [],
   "source": [
    "# Image and label paths\n",
    "lbl_path            = \"./dataset/labels/\"\n",
    "img_name            = \"./dataset/0.tif\"\n",
    "\n",
    "# Normalization\n",
    "axis_norm           = (0,1,2)   # normalize channels independently\n",
    "\n",
    "# Stardist training\n",
    "train_patch_size    = (48,96,96)\n",
    "train_batch_size    = 32\n",
    "\n",
    "# Models\n",
    "model_name       = \"3dl_nucount\"\n",
    "model_basedir    = \"models\"\n",
    "epochs           = 100\n",
    "\n",
    "\n",
    "\n"
   ]
  },
  {
   "cell_type": "markdown",
   "id": "03ef9f51",
   "metadata": {},
   "source": [
    "#### Read and prepare Training Dataset"
   ]
  },
  {
   "cell_type": "code",
   "execution_count": 20,
   "id": "4b4c86a3",
   "metadata": {},
   "outputs": [
    {
     "name": "stdout",
     "output_type": "stream",
     "text": [
      "(4, 63, 128, 128) (4, 63, 128, 128)\n"
     ]
    }
   ],
   "source": [
    "# Read labels (manual annotation)\n",
    "y=[]\n",
    "for filename in os.listdir(lbl_path):\n",
    "    y.append(tifffile.imread(os.path.join(lbl_path,filename)))\n",
    "y=np.array(y)\n",
    "y=np.sum(y,axis=0)\n",
    "\n",
    "# Read images\n",
    "x=tifffile.imread(img_name)\n",
    "x= np.float32(x)\n",
    "\n",
    "# Create 4 subvolumes of size 63x128x128 from the original 63x256x256 volume\n",
    "X=[]\n",
    "X.append(x[:,:128,:128])\n",
    "X.append(x[:,:128:,128:])\n",
    "X.append(x[:,128:,:128])\n",
    "X.append(x[:,128:,128:])\n",
    "X=np.array(X)\n",
    "\n",
    "Y=[]\n",
    "Y.append(y[:,:128,:128])\n",
    "Y.append(y[:,:128:,128:])\n",
    "Y.append(y[:,128:,:128])\n",
    "Y.append(y[:,128:,128:])\n",
    "Y=np.array(Y)\n",
    "\n",
    "# Sanity Check\n",
    "print(X.shape, Y.shape)\n"
   ]
  },
  {
   "cell_type": "markdown",
   "id": "bc10ebcd",
   "metadata": {},
   "source": [
    "#### Dataset Normalization"
   ]
  },
  {
   "cell_type": "code",
   "execution_count": null,
   "id": "53099d43",
   "metadata": {},
   "outputs": [],
   "source": [
    "# Stardist Image Normalization procedure\n",
    "\n",
    "n_channel = 1 if X[0].ndim == 3 else X[0].shape[-1]\n",
    "\n",
    "\n",
    "if n_channel > 1:\n",
    "    print(\"Normalizing image channels %s.\" % ('jointly' if axis_norm is None or 3 in axis_norm else 'independently'))\n",
    "    sys.stdout.flush()\n",
    "\n",
    "X = [normalize(x,1,99.8,axis=axis_norm) for x in tqdm(X)]\n",
    "Y = [fill_label_holes(y) for y in tqdm(Y)]"
   ]
  },
  {
   "cell_type": "markdown",
   "id": "40610a6c",
   "metadata": {},
   "source": [
    "#### Dataset Split"
   ]
  },
  {
   "cell_type": "code",
   "execution_count": null,
   "id": "74738cc0",
   "metadata": {},
   "outputs": [],
   "source": [
    "# Stardist Train/Test split procedure\n",
    "\n",
    "assert len(X) > 1, \"not enough training data\"\n",
    "rng = np.random.RandomState(42)\n",
    "ind = rng.permutation(len(X))\n",
    "n_val = max(1, int(round(0.15 * len(ind))))\n",
    "ind_train, ind_val = ind[:-n_val], ind[-n_val:]\n",
    "X_val, Y_val = [X[i] for i in ind_val]  , [Y[i] for i in ind_val]\n",
    "X_trn, Y_trn = [X[i] for i in ind_train], [Y[i] for i in ind_train] \n",
    "print('number of images: %3d' % len(X))\n",
    "print('- training:       %3d' % len(X_trn))\n",
    "print('- validation:     %3d' % len(X_val))"
   ]
  },
  {
   "cell_type": "markdown",
   "id": "088d6355",
   "metadata": {},
   "source": [
    "#### Data Augmentation strategy"
   ]
  },
  {
   "cell_type": "code",
   "execution_count": null,
   "id": "b2e26a6b",
   "metadata": {},
   "outputs": [],
   "source": [
    "# Stardist Data Augmentation procedure \n",
    "\n",
    "\n",
    "def random_fliprot(img, mask, axis=None): \n",
    "    if axis is None:\n",
    "        axis = tuple(range(mask.ndim))\n",
    "    axis = tuple(axis)\n",
    "            \n",
    "    assert img.ndim>=mask.ndim\n",
    "    perm = tuple(np.random.permutation(axis))\n",
    "    transpose_axis = np.arange(mask.ndim)\n",
    "    for a, p in zip(axis, perm):\n",
    "        transpose_axis[a] = p\n",
    "    transpose_axis = tuple(transpose_axis)\n",
    "    img = img.transpose(transpose_axis + tuple(range(mask.ndim, img.ndim))) \n",
    "    mask = mask.transpose(transpose_axis) \n",
    "    for ax in axis: \n",
    "        if np.random.rand() > 0.5:\n",
    "            img = np.flip(img, axis=ax)\n",
    "            mask = np.flip(mask, axis=ax)\n",
    "    return img, mask \n",
    "\n",
    "def random_intensity_change(img):\n",
    "    img = img*np.random.uniform(0.6,2) + np.random.uniform(-0.2,0.2)\n",
    "    return img\n",
    "\n",
    "def augmenter(x, y):\n",
    "    \"\"\"Augmentation of a single input/label image pair.\n",
    "    x is an input image\n",
    "    y is the corresponding ground-truth label image\n",
    "    \"\"\"\n",
    "    # Note that we only use fliprots along axis=(1,2), i.e. the yx axis \n",
    "    # as 3D microscopy acquisitions are usually not axially symmetric\n",
    "    x, y = random_fliprot(x, y, axis=(1,2))\n",
    "    x = random_intensity_change(x)\n",
    "    return x, y"
   ]
  },
  {
   "cell_type": "code",
   "execution_count": null,
   "id": "a830f355",
   "metadata": {},
   "outputs": [],
   "source": [
    "# Show random slice from augmented the volume\n",
    "\n",
    "img, lbl = X[0],Y[0]\n",
    "plot_img_label(img, lbl)\n",
    "for _ in range(3):\n",
    "    img_aug, lbl_aug = augmenter(img,lbl)\n",
    "    plot_img_label(img_aug, lbl_aug, img_title=\"image augmented (XY slice)\", lbl_title=\"label augmented (XY slice)\")"
   ]
  },
  {
   "cell_type": "markdown",
   "id": "0986d38e",
   "metadata": {},
   "source": [
    "#### Stardist 3D model configuration"
   ]
  },
  {
   "cell_type": "code",
   "execution_count": null,
   "id": "5df78ce6",
   "metadata": {},
   "outputs": [],
   "source": [
    "# Stardist Hyper-parameter settings\n",
    "\n",
    "# Empirical anisotropy\n",
    "extents = calculate_extents(Y)\n",
    "anisotropy = tuple(np.max(extents) / extents)\n",
    "print('empirical anisotropy of labeled objects = %s' % str(anisotropy))\n",
    "\n",
    "# Rays\n",
    "n_rays = 96\n",
    "\n",
    "# Use OpenCL-based computations for data generator during training (requires 'gputools')\n",
    "use_gpu = False and gputools_available()\n",
    "\n",
    "# Predict on subsampled grid for increased efficiency and larger field of view\n",
    "grid = tuple(1 if a > 1.5 else 2 for a in anisotropy)\n",
    "\n",
    "# Use rays on a Fibonacci lattice adjusted for measured anisotropy of the training data\n",
    "rays = Rays_GoldenSpiral(n_rays, anisotropy=anisotropy)\n",
    "\n",
    "# Create the Stardist configuration\n",
    "conf = Config3D (\n",
    "    rays             = rays,\n",
    "    grid             = grid,\n",
    "    anisotropy       = anisotropy,\n",
    "    use_gpu          = use_gpu,\n",
    "    n_channel_in     = n_channel,\n",
    "    train_patch_size = train_patch_size,\n",
    "    train_batch_size = train_batch_size,\n",
    ")\n",
    "print(conf)\n",
    "vars(conf)"
   ]
  },
  {
   "cell_type": "markdown",
   "id": "97b36770",
   "metadata": {},
   "source": [
    "#### Stardist3D Model creation"
   ]
  },
  {
   "cell_type": "code",
   "execution_count": null,
   "id": "3e8028fa",
   "metadata": {},
   "outputs": [],
   "source": [
    "model = StarDist3D(conf, name=model_name, basedir=model_basedir)"
   ]
  },
  {
   "cell_type": "markdown",
   "id": "89173149",
   "metadata": {},
   "source": [
    "#### Stardist3D Model training"
   ]
  },
  {
   "cell_type": "code",
   "execution_count": null,
   "id": "3f47059f",
   "metadata": {},
   "outputs": [],
   "source": [
    "model.train(X_trn, Y_trn, validation_data=(X_val,Y_val), epochs=epochs)"
   ]
  },
  {
   "cell_type": "markdown",
   "id": "10ba378b",
   "metadata": {},
   "source": [
    "#### Threshold optimization for model inference"
   ]
  },
  {
   "cell_type": "code",
   "execution_count": null,
   "id": "e70f577c",
   "metadata": {},
   "outputs": [],
   "source": [
    "# Binarization threshold inference on validation set\n",
    "\n",
    "model.optimize_thresholds(X_val, Y_val)"
   ]
  }
 ],
 "metadata": {
  "kernelspec": {
   "display_name": "stardist",
   "language": "python",
   "name": "stardist"
  },
  "language_info": {
   "codemirror_mode": {
    "name": "ipython",
    "version": 3
   },
   "file_extension": ".py",
   "mimetype": "text/x-python",
   "name": "python",
   "nbconvert_exporter": "python",
   "pygments_lexer": "ipython3",
   "version": "3.7.13"
  }
 },
 "nbformat": 4,
 "nbformat_minor": 5
}
