{
 "cells": [
  {
   "cell_type": "markdown",
   "id": "156c2c9a",
   "metadata": {},
   "source": [
    "# 3DL_NuCount (Inference notebook)"
   ]
  },
  {
   "cell_type": "markdown",
   "id": "b78780a3",
   "metadata": {},
   "source": [
    "Author: Fabrice Daian"
   ]
  },
  {
   "cell_type": "markdown",
   "id": "b99d638e",
   "metadata": {},
   "source": [
    "Inspired from original Stardist3D example notebook: https://github.com/stardist/stardist/blob/master/examples/3D/3_prediction.ipynb"
   ]
  },
  {
   "cell_type": "markdown",
   "id": "16a875b3",
   "metadata": {},
   "source": [
    "#### Imports"
   ]
  },
  {
   "cell_type": "code",
   "execution_count": null,
   "id": "0a4358b3",
   "metadata": {},
   "outputs": [],
   "source": [
    "from __future__ import print_function, unicode_literals, absolute_import, division\n",
    "import numpy as np\n",
    "from tqdm.notebook import tqdm as tqdm\n",
    "import tifffile\n",
    "from csbdeep.utils import normalize\n",
    "\n",
    "from stardist.models import StarDist3D\n",
    "\n",
    "np.random.seed(42)"
   ]
  },
  {
   "cell_type": "markdown",
   "id": "8ded832c",
   "metadata": {},
   "source": [
    "#### Parameters"
   ]
  },
  {
   "cell_type": "code",
   "execution_count": null,
   "id": "f259d501",
   "metadata": {},
   "outputs": [],
   "source": [
    "#models\n",
    "model_name       = \"3dl_nucount\"\n",
    "model_basedir    = \"models\"\n",
    "\n",
    "#images\n",
    "image_to_predict = \"./images/22-07-13 Mef2 twi GFP M1BP RNAi fort 40x Wstack4 zoom 0.7.tif\"\n",
    "image_result     = \"./results/result.tif\"\n",
    "\n",
    "#normalization\n",
    "axis_norm        = (0,1,2) # normalize channels independently\n",
    "\n",
    "#tiling \n",
    "patchsize        = 784\n",
    "imsize           = 2048  # imsize must be divisible by 32 to fit into the network\n",
    "\n"
   ]
  },
  {
   "cell_type": "markdown",
   "id": "14f9e1b7",
   "metadata": {},
   "source": [
    "#### Model Loading\n",
    "(Check _nucount_trainin.ipynb_ for training workflow)"
   ]
  },
  {
   "cell_type": "code",
   "execution_count": null,
   "id": "3a8c4b4a",
   "metadata": {},
   "outputs": [],
   "source": [
    "model = StarDist3D(None, name=model_name,basedir=model_basedir)"
   ]
  },
  {
   "cell_type": "markdown",
   "id": "47680173",
   "metadata": {},
   "source": [
    "#### Read one 3D volume"
   ]
  },
  {
   "cell_type": "code",
   "execution_count": null,
   "id": "7ae9895d",
   "metadata": {},
   "outputs": [],
   "source": [
    "A = tifffile.imread(image_to_predict)"
   ]
  },
  {
   "cell_type": "markdown",
   "id": "f3352d78",
   "metadata": {},
   "source": [
    "#### Tiling and normalization"
   ]
  },
  {
   "cell_type": "code",
   "execution_count": null,
   "id": "58aff7b6",
   "metadata": {},
   "outputs": [],
   "source": [
    "l = list(range(0,imsize,patchsize))\n",
    "c = list(range(0,imsize,patchsize))\n",
    "\n",
    "X=[]\n",
    "for i in l:\n",
    "    for j in c:\n",
    "        X.append(A[:,i:i+patchsize,j:j+patchsize])\n",
    "        \n",
    "# Normalization\n",
    "X = [normalize(x,1,99.8,axis=axis_norm) for x in tqdm(X)]                   "
   ]
  },
  {
   "cell_type": "markdown",
   "id": "315817d4",
   "metadata": {},
   "source": [
    "#### Inference by tiles"
   ]
  },
  {
   "cell_type": "code",
   "execution_count": null,
   "id": "696fd1ba",
   "metadata": {},
   "outputs": [],
   "source": [
    "\n",
    "p=[]\n",
    "for i in tqdm(range(len(X)), desc=\"Processing\", leave=False):\n",
    "# for i in range(len(X)):\n",
    "#     print(i)\n",
    "    labels, details = model.predict_instances(X[i])\n",
    "    p.append(labels)\n",
    "\n",
    "    "
   ]
  },
  {
   "cell_type": "markdown",
   "id": "2918f091",
   "metadata": {},
   "source": [
    "#### Volume reconstruction from tile"
   ]
  },
  {
   "cell_type": "code",
   "execution_count": null,
   "id": "7cd22b24",
   "metadata": {},
   "outputs": [],
   "source": [
    "# result image initialization\n",
    "R=np.ones(A.shape)*-1\n",
    "\n",
    "l = list(range(0,imsize,patchsize))\n",
    "c = list(range(0,imsize,patchsize))\n",
    "\n",
    "k=0\n",
    "curmax=0\n",
    "for i in l:\n",
    "    for j in c:\n",
    "        \n",
    "        R[:,i:i+patchsize,j:j+patchsize]=p[k]+(curmax+1)\n",
    "        tmp = np.copy(R[:,i:i+patchsize,j:j+patchsize])\n",
    "        tmp[tmp==(curmax+1)]=0\n",
    "        R[:,i:i+patchsize,j:j+patchsize]=np.copy(tmp)\n",
    "        \n",
    "        curmax=np.max(p[k])\n",
    "        k=k+1\n",
    "\n"
   ]
  },
  {
   "cell_type": "markdown",
   "id": "01fe5912",
   "metadata": {},
   "source": [
    "#### Counting"
   ]
  },
  {
   "cell_type": "code",
   "execution_count": null,
   "id": "f120618b",
   "metadata": {},
   "outputs": [],
   "source": [
    "print(\"Count nuclei:\", np.max(R))"
   ]
  },
  {
   "cell_type": "markdown",
   "id": "deba055b",
   "metadata": {},
   "source": [
    "#### Save result"
   ]
  },
  {
   "cell_type": "code",
   "execution_count": null,
   "id": "e1c71085",
   "metadata": {},
   "outputs": [],
   "source": [
    "tifffile.imwrite(image_result,R)"
   ]
  }
 ],
 "metadata": {
  "kernelspec": {
   "display_name": "stardist",
   "language": "python",
   "name": "stardist"
  },
  "language_info": {
   "codemirror_mode": {
    "name": "ipython",
    "version": 3
   },
   "file_extension": ".py",
   "mimetype": "text/x-python",
   "name": "python",
   "nbconvert_exporter": "python",
   "pygments_lexer": "ipython3",
   "version": "3.7.13"
  }
 },
 "nbformat": 4,
 "nbformat_minor": 5
}
